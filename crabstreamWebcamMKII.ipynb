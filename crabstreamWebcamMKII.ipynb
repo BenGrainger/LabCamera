{
 "cells": [
  {
   "cell_type": "code",
   "execution_count": 1,
   "id": "0580e2ce",
   "metadata": {},
   "outputs": [],
   "source": [
    "import numpy as np\n",
    "import cv2\n",
    "import time\n",
    "import datetime\n",
    "import json\n",
    "import pathlib\n",
    "import subprocess"
   ]
  },
  {
   "cell_type": "code",
   "execution_count": null,
   "id": "d903976c",
   "metadata": {
    "scrolled": true
   },
   "outputs": [],
   "source": [
    "def get_hour():\n",
    "    \"\"\"\n",
    "    returns the current hour only\n",
    "    \"\"\"\n",
    "    current = datetime.datetime.now().time() #creates a datetime now object\n",
    "    hr = int(current.hour) # collects and integerizes the hour object\n",
    "    return hr\n",
    "\n",
    "while(True): # forever loop - planning to always running \n",
    "    \n",
    "    x = datetime.datetime.now()\n",
    "    datestr = str(x.date())\n",
    "    start = str(x.time())\n",
    "    \n",
    "    hr = get_hour()\n",
    "    \n",
    "    if 8 < hr < 23: # between the hours of 8 and 23\n",
    "        \n",
    "        # cv2 to create camera object\n",
    "        \n",
    "        video = cv2.VideoCapture(0)\n",
    "        cap = cv2.VideoCapture(0)\n",
    "        size = (int(video.get(3)), int(video.get(4)))\n",
    "\n",
    "        video_file_path = r'C:\\Users\\BMLab21\\Documents\\CrabStreams\\{}.avi'.format(datestr)\n",
    "        \n",
    "        result = cv2.VideoWriter(video_file_path, \n",
    "                             cv2.VideoWriter_fourcc(*'MJPG'), # fourcc is how openCV find # MJPG is the codec\n",
    "                             30, size)\n",
    "        \n",
    "        frame_n = 0 # frame counter \n",
    "        \n",
    "        while(8 < hr < 23): # during the hours of 8-23 write a video to video_file_path\n",
    "\n",
    "            hr = get_hour()\n",
    "            frame_n += 1\n",
    "            ret, frame = cap.read()\n",
    "            result.write(frame)\n",
    "            cv2.imshow('frame',frame)\n",
    "            if cv2.waitKey(1) & 0xFF == ord('q'):\n",
    "                break\n",
    "        \n",
    "        # stop writing and release after 23\n",
    "        \n",
    "        cap.release()\n",
    "        result.release()\n",
    "        cv2.destroyAllWindows()\n",
    "        \n",
    "        end = str(datetime.datetime.now().time())\n",
    "        \n",
    "        # save accompanying Json\n",
    "        \n",
    "        json_file_path = r'C:\\Users\\BMLab21\\Documents\\CrabStreams\\{}_Meta.JSON'.format(datestr)\n",
    "        metaData = {'date': datestr, 'start': start, 'end': end, 'frames': frame_n}\n",
    "        pathlib.Path(json_file_path).write_text(json.dumps(metaData))\n",
    "        \n",
    "        # compress and output to server\n",
    "        \n",
    "        video_ouput_to_server = r'C:\\Users\\BMLab21\\Documents\\CrabStreams\\{}.avi'.format(datestr)\n",
    "        json_server_file_path = r'C:\\Users\\BMLab21\\Documents\\CrabStreams\\{}_Meta.JSON'.format(datestr)\n",
    "        command = 'ffmpeg -i {} -b x265 {}'.format(video_ouput_to_server, out)\n",
    "        result = subprocess.run(command)\n",
    "        pathlib.Path(json_server_file_path).write_text(json.dumps(metaData))\n",
    "        \n",
    "        # back to start"
   ]
  },
  {
   "cell_type": "code",
   "execution_count": null,
   "id": "4b8d5e18",
   "metadata": {},
   "outputs": [],
   "source": []
  }
 ],
 "metadata": {
  "kernelspec": {
   "display_name": "Python 3 (ipykernel)",
   "language": "python",
   "name": "python3"
  },
  "language_info": {
   "codemirror_mode": {
    "name": "ipython",
    "version": 3
   },
   "file_extension": ".py",
   "mimetype": "text/x-python",
   "name": "python",
   "nbconvert_exporter": "python",
   "pygments_lexer": "ipython3",
   "version": "3.7.11"
  }
 },
 "nbformat": 4,
 "nbformat_minor": 5
}
