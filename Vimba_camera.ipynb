{
 "cells": [
  {
   "cell_type": "code",
   "execution_count": 1,
   "id": "7da26058-e504-4b05-a077-9d4b88660b14",
   "metadata": {},
   "outputs": [],
   "source": [
    "import vimba\n",
    "from vimba import *\n",
    "import sys\n",
    "from typing import Optional\n",
    "import cv2\n",
    "from time import sleep\n",
    "import numpy as np\n",
    "import matplotlib.pyplot as plt\n",
    "import threading"
   ]
  },
  {
   "cell_type": "code",
   "execution_count": 7,
   "id": "9dd3231c-a1ae-4215-9699-4c3d8eb8c417",
   "metadata": {},
   "outputs": [
    {
     "name": "stdout",
     "output_type": "stream",
     "text": [
      "Cameras found: 1\n",
      "DEV_1AB22C00CD6F\n"
     ]
    }
   ],
   "source": [
    "with Vimba.get_instance() as vimba:\n",
    "    cams = vimba.get_all_cameras()\n",
    "\n",
    "    print('Cameras found: {}'.format(len(cams)))\n",
    "\n",
    "    for cam in cams:\n",
    "        cameraID = cam.get_id()\n",
    "print(cameraID)"
   ]
  },
  {
   "cell_type": "code",
   "execution_count": 8,
   "id": "bcc50745-c490-4a26-9f6c-4608109fa805",
   "metadata": {},
   "outputs": [],
   "source": [
    "def get_camera(camera_id: Optional[str]) -> Camera:\n",
    "    with Vimba.get_instance() as vimba:\n",
    "        if camera_id:\n",
    "            try:\n",
    "                return vimba.get_camera_by_id(camera_id)\n",
    "\n",
    "            except VimbaCameraError:\n",
    "                print('Failed to access Camera \\'{}\\'. Abort.'.format(camera_id))\n",
    "\n",
    "        else:\n",
    "            cams = vimba.get_all_cameras()\n",
    "            if not cams:\n",
    "                print('No Cameras accessible. Abort.')\n",
    "\n",
    "            return cams[0]"
   ]
  },
  {
   "cell_type": "code",
   "execution_count": 9,
   "id": "866fddef-a888-4b95-9a99-5e7f65a05093",
   "metadata": {},
   "outputs": [],
   "source": [
    "cam = get_camera(cameraID)"
   ]
  },
  {
   "cell_type": "code",
   "execution_count": 10,
   "id": "5a188096-6f31-468f-84b1-0bb1d52fee93",
   "metadata": {},
   "outputs": [
    {
     "data": {
      "text/plain": [
       "<vimba.camera.Camera at 0x202289e78c8>"
      ]
     },
     "execution_count": 10,
     "metadata": {},
     "output_type": "execute_result"
    }
   ],
   "source": [
    "cam"
   ]
  },
  {
   "cell_type": "code",
   "execution_count": 11,
   "id": "03c02ab7-54ed-4d83-8cc7-80dce1d210dd",
   "metadata": {},
   "outputs": [
    {
     "name": "stdout",
     "output_type": "stream",
     "text": [
      "--> Feature values have been loaded from given file 'C:\\Users\\BMLab21\\Desktop\\camera\\second_attempt.xml'\n"
     ]
    }
   ],
   "source": [
    "settings_file = r'C:\\Users\\BMLab21\\Desktop\\camera\\second_attempt.xml'\n",
    "\n",
    "with Vimba.get_instance():\n",
    "    with get_camera(cameraID) as cam:\n",
    "        cam.UserSetSelector.set('Default')\n",
    "        cam.load_settings(settings_file, PersistType.All)\n",
    "        print(\"--> Feature values have been loaded from given file '%s'\" % settings_file)"
   ]
  },
  {
   "cell_type": "code",
   "execution_count": 12,
   "id": "5da4d338-c9fc-4f7f-89ec-24fb46b9a2cd",
   "metadata": {},
   "outputs": [],
   "source": [
    "def frame_handler(cam: Camera, frame: Frame):\n",
    "    if frame.get_status() == FrameStatus.Complete:\n",
    "        print('Frame(ID: {}) has been received.'.format(frame.get_id()), flush=True)\n",
    "\n",
    "    cam.queue_frame(frame)"
   ]
  },
  {
   "cell_type": "code",
   "execution_count": 13,
   "id": "fe2da0c5-2a14-49c4-9a30-799c9afe8c38",
   "metadata": {},
   "outputs": [
    {
     "name": "stdout",
     "output_type": "stream",
     "text": [
      "Frame(ID: 0) has been received.\n"
     ]
    }
   ],
   "source": [
    "with Vimba.get_instance():\n",
    "    cam = get_camera(cameraID)\n",
    "    sender = cam.get_interface_id()\n",
    "\n",
    "    with cam:\n",
    "        cam.start_streaming(frame_handler)"
   ]
  },
  {
   "cell_type": "code",
   "execution_count": 14,
   "id": "33e5f959-c3e5-4633-8e36-ebfe6a73e8c2",
   "metadata": {},
   "outputs": [],
   "source": [
    "def frame_handler2(cam: Camera, frame: Frame):\n",
    "    c = cam.queue_frame(frame)\n",
    "    s = frame.as_numpy_ndarray()\n",
    "    result.write(s)"
   ]
  },
  {
   "cell_type": "code",
   "execution_count": 15,
   "id": "3c6eba85-fc35-404c-9607-1cfb6006f874",
   "metadata": {
    "tags": []
   },
   "outputs": [
    {
     "name": "stdout",
     "output_type": "stream",
     "text": [
      "--> Feature values have been loaded from given file 'C:\\Users\\BMLab21\\Desktop\\camera\\second_attempt.xml'\n"
     ]
    }
   ],
   "source": [
    "with Vimba.get_instance() as vimba:\n",
    "    with get_camera(cameraID) as camera:\n",
    "        \n",
    "        camera.UserSetSelector.set('Default')\n",
    "        camera.load_settings(settings_file, PersistType.All)\n",
    "        print(\"--> Feature values have been loaded from given file '%s'\" % settings_file)\n",
    "        \n",
    "        camera.AcquisitionFrameRateAbs = 17\n",
    "        fps=camera.AcquisitionFrameRateAbs\n",
    "        single_frame = camera.get_frame().as_numpy_ndarray()\n",
    "        size = (single_frame.shape[0], single_frame.shape[1])\n",
    "        \n",
    "        video_file_path = r'C:\\Users\\BMLab21\\Documents\\CrabStreams\\testing.avi'\n",
    "        result = cv2.VideoWriter(video_file_path, cv2.VideoWriter_fourcc(*'MJPG'), fps, size)\n",
    "\n",
    "        # arm the camera and provide a function to be called upon frame ready\n",
    "        with camera:\n",
    "            frames = camera.start_streaming(frame_handler2)\n",
    "\n",
    "            # stream images for a while...\n",
    "            sleep(0.2)\n",
    "\n",
    "            # stop frame acquisition\n",
    "            camera.stop_streaming()\n",
    "\n",
    "result.release()\n",
    "cv2.destroyAllWindows()"
   ]
  },
  {
   "cell_type": "code",
   "execution_count": 25,
   "id": "03b34076-a616-454e-8860-b5de82dd76f7",
   "metadata": {},
   "outputs": [],
   "source": [
    "def get_camera(camera_id: Optional[str]) -> Camera:\n",
    "    with Vimba.get_instance() as vimba:\n",
    "        if camera_id:\n",
    "            try:\n",
    "                return vimba.get_camera_by_id(camera_id)\n",
    "\n",
    "            except VimbaCameraError:\n",
    "                print('Failed to access Camera \\'{}\\'. Abort.'.format(camera_id))\n",
    "\n",
    "        else:\n",
    "            cams = vimba.get_all_cameras()\n",
    "            if not cams:\n",
    "                print('No Cameras accessible. Abort.')\n",
    "\n",
    "            return cams[0]\n",
    "\n",
    "def setup_camera(cam: Camera):\n",
    "    with cam:\n",
    "        # Enable auto exposure time setting if camera supports it\n",
    "        try:\n",
    "            cam.ExposureAuto.set('Continuous')\n",
    "\n",
    "        except (AttributeError, VimbaFeatureError):\n",
    "            pass\n",
    "\n",
    "        # Enable white balancing if camera supports it\n",
    "        try:\n",
    "            cam.BalanceWhiteAuto.set('Continuous')\n",
    "\n",
    "        except (AttributeError, VimbaFeatureError):\n",
    "            pass\n",
    "\n",
    "        # Try to adjust GeV packet size. This Feature is only available for GigE - Cameras.\n",
    "        try:\n",
    "            cam.GVSPAdjustPacketSize.run()\n",
    "\n",
    "            while not cam.GVSPAdjustPacketSize.is_done():\n",
    "                pass\n",
    "\n",
    "        except (AttributeError, VimbaFeatureError):\n",
    "            pass\n",
    "\n",
    "        # Query available, open_cv compatible pixel formats\n",
    "        # prefer color formats over monochrome formats\n",
    "        cv_fmts = intersect_pixel_formats(cam.get_pixel_formats(), OPENCV_PIXEL_FORMATS)\n",
    "        color_fmts = intersect_pixel_formats(cv_fmts, COLOR_PIXEL_FORMATS)\n",
    "\n",
    "        if color_fmts:\n",
    "            cam.set_pixel_format(color_fmts[0])\n",
    "\n",
    "        else:\n",
    "            mono_fmts = intersect_pixel_formats(cv_fmts, MONO_PIXEL_FORMATS)\n",
    "\n",
    "            if mono_fmts:\n",
    "                cam.set_pixel_format(mono_fmts[0])\n",
    "\n",
    "            else:\n",
    "                abort('Camera does not support a OpenCV compatible format natively. Abort.')\n",
    "\n",
    "\n",
    "class Handler:\n",
    "    def __init__(self):\n",
    "        self.shutdown_event = threading.Event()\n",
    "\n",
    "    def __call__(self, cam: Camera, frame: Frame):\n",
    "        ENTER_KEY_CODE = 13\n",
    "\n",
    "        key = cv2.waitKey(1)\n",
    "        if key == ENTER_KEY_CODE:\n",
    "            self.shutdown_event.set()\n",
    "            return\n",
    "\n",
    "        elif frame.get_status() == FrameStatus.Complete:\n",
    "            #print('{} acquired {}'.format(cam, frame), flush=True)\n",
    "\n",
    "            msg = 'Stream from \\'{}\\'. Press <Enter> to stop stream.'\n",
    "            cv2.imshow(msg.format(cam.get_name()), frame.as_opencv_image())\n",
    "            result.write(frame.as_opencv_image())\n",
    "            if cv2.waitKey(1) & 0xFF == ord('q'):\n",
    "                cam.queue_frame(frame)\n",
    "\n",
    "        cam.queue_frame(frame)"
   ]
  },
  {
   "cell_type": "code",
   "execution_count": 26,
   "id": "051f208e-6e4f-48c6-a20c-c504065d612f",
   "metadata": {},
   "outputs": [
    {
     "name": "stdout",
     "output_type": "stream",
     "text": [
      "Cameras found: 1\n"
     ]
    }
   ],
   "source": [
    "with Vimba.get_instance() as vimba:\n",
    "    cams = vimba.get_all_cameras()\n",
    "\n",
    "    print('Cameras found: {}'.format(len(cams)))\n",
    "\n",
    "    for cam in cams:\n",
    "        cameraID = cam.get_id()\n",
    "\n",
    "with Vimba.get_instance():\n",
    "    with get_camera(cameraID) as cam:\n",
    "        \n",
    "        cam.AcquisitionFrameRateAbs = 17\n",
    "        fps=cam.AcquisitionFrameRateAbs\n",
    "        single_frame = cam.get_frame().as_numpy_ndarray()\n",
    "        size = (single_frame.shape[0], single_frame.shape[1])\n",
    "        \n",
    "        video_file_path = r'C:\\Users\\BMLab21\\Documents\\CrabStreams\\testing.avi'\n",
    "        result = cv2.VideoWriter(video_file_path, cv2.VideoWriter_fourcc(*'MJPG'), fps, size)\n",
    "\n",
    "        # Start Streaming, wait for five seconds, stop streaming\n",
    "        setup_camera(cam)\n",
    "        handler = Handler()\n",
    "\n",
    "        try:\n",
    "            # Start Streaming with a custom a buffer of 10 Frames (defaults to 5)\n",
    "            cam.start_streaming(handler=handler, buffer_count=10)\n",
    "            handler.shutdown_event.wait()\n",
    "\n",
    "        finally:\n",
    "            cam.stop_streaming()\n",
    "            \n",
    "result.release()\n",
    "cv2.destroyAllWindows()"
   ]
  },
  {
   "cell_type": "code",
   "execution_count": null,
   "id": "c22251ce-a0ae-4e77-8eb4-6314288c7f44",
   "metadata": {},
   "outputs": [],
   "source": []
  }
 ],
 "metadata": {
  "kernelspec": {
   "display_name": "Python 3 (ipykernel)",
   "language": "python",
   "name": "python3"
  },
  "language_info": {
   "codemirror_mode": {
    "name": "ipython",
    "version": 3
   },
   "file_extension": ".py",
   "mimetype": "text/x-python",
   "name": "python",
   "nbconvert_exporter": "python",
   "pygments_lexer": "ipython3",
   "version": "3.7.11"
  }
 },
 "nbformat": 4,
 "nbformat_minor": 5
}
